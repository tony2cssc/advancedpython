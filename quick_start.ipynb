{
 "cells": [
  {
   "cell_type": "code",
   "execution_count": 8,
   "metadata": {},
   "outputs": [
    {
     "output_type": "execute_result",
     "data": {
      "text/plain": [
       "sys.version_info(major=3, minor=8, micro=5, releaselevel='final', serial=0)"
      ]
     },
     "metadata": {},
     "execution_count": 8
    }
   ],
   "source": [
    "import sys\n",
    "sys.version_info"
   ]
  },
  {
   "cell_type": "code",
   "execution_count": 9,
   "metadata": {},
   "outputs": [
    {
     "output_type": "execute_result",
     "data": {
      "text/plain": [
       "sys.version_info(major=3, minor=8, micro=5, releaselevel='final', serial=0)"
      ]
     },
     "metadata": {},
     "execution_count": 9
    }
   ],
   "source": [
    "(version := sys.version_info)"
   ]
  },
  {
   "cell_type": "code",
   "execution_count": 10,
   "metadata": {},
   "outputs": [
    {
     "output_type": "execute_result",
     "data": {
      "text/plain": [
       "'JADE'"
      ]
     },
     "metadata": {},
     "execution_count": 10
    }
   ],
   "source": [
    "import socket\n",
    "hostname = socket.gethostname()\n",
    "hostname\n"
   ]
  },
  {
   "cell_type": "code",
   "execution_count": 11,
   "metadata": {},
   "outputs": [
    {
     "output_type": "execute_result",
     "data": {
      "text/plain": [
       "[(<AddressFamily.AF_INET6: 23>,\n",
       "  0,\n",
       "  0,\n",
       "  '',\n",
       "  ('fe80::89eb:a0c1:a041:436', 0, 0, 20)),\n",
       " (<AddressFamily.AF_INET6: 23>,\n",
       "  0,\n",
       "  0,\n",
       "  '',\n",
       "  ('240e:38a:6f04:7500:458b:a58b:7378:b5d', 0, 0, 0)),\n",
       " (<AddressFamily.AF_INET6: 23>,\n",
       "  0,\n",
       "  0,\n",
       "  '',\n",
       "  ('240e:38a:6f04:7500:89eb:a0c1:a041:436', 0, 0, 0)),\n",
       " (<AddressFamily.AF_INET6: 23>,\n",
       "  0,\n",
       "  0,\n",
       "  '',\n",
       "  ('fe80::7119:fb8e:d7b8:a0a0', 0, 0, 71)),\n",
       " (<AddressFamily.AF_INET6: 23>,\n",
       "  0,\n",
       "  0,\n",
       "  '',\n",
       "  ('fe80::3df4:b9c2:3b2a:d8af', 0, 0, 25)),\n",
       " (<AddressFamily.AF_INET: 2>, 0, 0, '', ('192.168.1.4', 0)),\n",
       " (<AddressFamily.AF_INET: 2>, 0, 0, '', ('172.25.240.1', 0)),\n",
       " (<AddressFamily.AF_INET: 2>, 0, 0, '', ('172.23.32.1', 0))]"
      ]
     },
     "metadata": {},
     "execution_count": 11
    }
   ],
   "source": [
    "addresses = socket.getaddrinfo(hostname, None)\n",
    "addresses\n"
   ]
  },
  {
   "cell_type": "code",
   "execution_count": 12,
   "metadata": {},
   "outputs": [
    {
     "output_type": "stream",
     "name": "stdout",
     "text": [
      "AF_INET6 fe80::89eb:a0c1:a041:436\nAF_INET6 240e:38a:6f04:7500:458b:a58b:7378:b5d\nAF_INET6 240e:38a:6f04:7500:89eb:a0c1:a041:436\nAF_INET6 fe80::7119:fb8e:d7b8:a0a0\nAF_INET6 fe80::3df4:b9c2:3b2a:d8af\nAF_INET 192.168.1.4\nAF_INET 172.25.240.1\nAF_INET 172.23.32.1\n"
     ]
    }
   ],
   "source": [
    "for address in addresses:\n",
    "    print(address[0].name, address[4][0])\n",
    "    "
   ]
  },
  {
   "cell_type": "code",
   "execution_count": 13,
   "metadata": {},
   "outputs": [
    {
     "output_type": "execute_result",
     "data": {
      "text/plain": [
       "scpustats(ctx_switches=8755390, interrupts=5430585, soft_interrupts=0, syscalls=42395070)"
      ]
     },
     "metadata": {},
     "execution_count": 13
    }
   ],
   "source": [
    "import psutil\n",
    "psutil.cpu_stats()\n"
   ]
  },
  {
   "cell_type": "code",
   "execution_count": 20,
   "metadata": {},
   "outputs": [
    {
     "output_type": "execute_result",
     "data": {
      "text/plain": [
       "17.9"
      ]
     },
     "metadata": {},
     "execution_count": 20
    }
   ],
   "source": [
    "psutil.cpu_percent(0.1)"
   ]
  },
  {
   "cell_type": "code",
   "execution_count": 15,
   "metadata": {},
   "outputs": [
    {
     "output_type": "execute_result",
     "data": {
      "text/plain": [
       "3584942080"
      ]
     },
     "metadata": {},
     "execution_count": 15
    }
   ],
   "source": [
    "psutil.virtual_memory().available"
   ]
  },
  {
   "cell_type": "code",
   "execution_count": 16,
   "metadata": {},
   "outputs": [
    {
     "output_type": "execute_result",
     "data": {
      "text/plain": [
       "True"
      ]
     },
     "metadata": {},
     "execution_count": 16
    }
   ],
   "source": [
    "psutil.sensors_battery().power_plugged"
   ]
  },
  {
   "cell_type": "code",
   "execution_count": null,
   "metadata": {},
   "outputs": [],
   "source": []
  }
 ],
 "metadata": {
  "kernelspec": {
   "display_name": "advancedpython",
   "language": "python",
   "name": "advancedpython"
  },
  "language_info": {
   "codemirror_mode": {
    "name": "ipython",
    "version": 3
   },
   "file_extension": ".py",
   "mimetype": "text/x-python",
   "name": "python",
   "nbconvert_exporter": "python",
   "pygments_lexer": "ipython3",
   "version": "3.8.5-final"
  }
 },
 "nbformat": 4,
 "nbformat_minor": 4
}