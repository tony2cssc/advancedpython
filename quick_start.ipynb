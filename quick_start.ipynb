{
 "cells": [
  {
   "cell_type": "code",
   "execution_count": 57,
   "metadata": {},
   "outputs": [
    {
     "output_type": "execute_result",
     "data": {
      "text/plain": [
       "sys.version_info(major=3, minor=8, micro=5, releaselevel='final', serial=0)"
      ]
     },
     "metadata": {},
     "execution_count": 57
    }
   ],
   "source": [
    "import sys\n",
    "sys.version_info"
   ]
  },
  {
   "cell_type": "code",
   "execution_count": 58,
   "metadata": {},
   "outputs": [
    {
     "output_type": "execute_result",
     "data": {
      "text/plain": [
       "sys.version_info(major=3, minor=8, micro=5, releaselevel='final', serial=0)"
      ]
     },
     "metadata": {},
     "execution_count": 58
    }
   ],
   "source": [
    "(version := sys.version_info)"
   ]
  },
  {
   "cell_type": "code",
   "execution_count": 59,
   "metadata": {},
   "outputs": [
    {
     "output_type": "execute_result",
     "data": {
      "text/plain": [
       "'JADE'"
      ]
     },
     "metadata": {},
     "execution_count": 59
    }
   ],
   "source": [
    "import socket\n",
    "hostname = socket.gethostname()\n",
    "hostname\n"
   ]
  },
  {
   "cell_type": "code",
   "execution_count": 60,
   "metadata": {},
   "outputs": [
    {
     "output_type": "execute_result",
     "data": {
      "text/plain": [
       "[(<AddressFamily.AF_INET6: 23>,\n",
       "  0,\n",
       "  0,\n",
       "  '',\n",
       "  ('fe80::5407:e371:c0d9:2034', 0, 0, 71)),\n",
       " (<AddressFamily.AF_INET6: 23>,\n",
       "  0,\n",
       "  0,\n",
       "  '',\n",
       "  ('fe80::51e9:5357:9b7c:9f38', 0, 0, 57)),\n",
       " (<AddressFamily.AF_INET6: 23>,\n",
       "  0,\n",
       "  0,\n",
       "  '',\n",
       "  ('fe80::89eb:a0c1:a041:436', 0, 0, 18)),\n",
       " (<AddressFamily.AF_INET6: 23>,\n",
       "  0,\n",
       "  0,\n",
       "  '',\n",
       "  ('240e:38a:6f04:7500:cdd0:5fe9:e633:758f', 0, 0, 0)),\n",
       " (<AddressFamily.AF_INET6: 23>,\n",
       "  0,\n",
       "  0,\n",
       "  '',\n",
       "  ('240e:38a:6f04:7500:89eb:a0c1:a041:436', 0, 0, 0)),\n",
       " (<AddressFamily.AF_INET: 2>, 0, 0, '', ('172.22.80.1', 0)),\n",
       " (<AddressFamily.AF_INET: 2>, 0, 0, '', ('172.29.64.1', 0)),\n",
       " (<AddressFamily.AF_INET: 2>, 0, 0, '', ('192.168.1.4', 0))]"
      ]
     },
     "metadata": {},
     "execution_count": 60
    }
   ],
   "source": [
    "addresses = socket.getaddrinfo(hostname, None)\n",
    "addresses\n"
   ]
  },
  {
   "cell_type": "code",
   "execution_count": 61,
   "metadata": {},
   "outputs": [
    {
     "output_type": "stream",
     "name": "stdout",
     "text": [
      "AF_INET6 fe80::5407:e371:c0d9:2034\nAF_INET6 fe80::51e9:5357:9b7c:9f38\nAF_INET6 fe80::89eb:a0c1:a041:436\nAF_INET6 240e:38a:6f04:7500:cdd0:5fe9:e633:758f\nAF_INET6 240e:38a:6f04:7500:89eb:a0c1:a041:436\nAF_INET 172.22.80.1\nAF_INET 172.29.64.1\nAF_INET 192.168.1.4\n"
     ]
    }
   ],
   "source": [
    "for address in addresses:\n",
    "    print(address[0].name, address[4][0])\n",
    "    "
   ]
  },
  {
   "cell_type": "code",
   "execution_count": 62,
   "metadata": {},
   "outputs": [
    {
     "output_type": "execute_result",
     "data": {
      "text/plain": [
       "scpustats(ctx_switches=79084354, interrupts=2525970925, soft_interrupts=0, syscalls=2219370238)"
      ]
     },
     "metadata": {},
     "execution_count": 62
    }
   ],
   "source": [
    "import psutil\n",
    "psutil.cpu_stats()\n"
   ]
  },
  {
   "cell_type": "code",
   "execution_count": 63,
   "metadata": {},
   "outputs": [
    {
     "output_type": "execute_result",
     "data": {
      "text/plain": [
       "50.0"
      ]
     },
     "metadata": {},
     "execution_count": 63
    }
   ],
   "source": [
    "psutil.cpu_percent(5)"
   ]
  },
  {
   "cell_type": "code",
   "execution_count": 64,
   "metadata": {},
   "outputs": [
    {
     "output_type": "execute_result",
     "data": {
      "text/plain": [
       "2866823168"
      ]
     },
     "metadata": {},
     "execution_count": 64
    }
   ],
   "source": [
    "psutil.virtual_memory().available"
   ]
  },
  {
   "cell_type": "code",
   "execution_count": 65,
   "metadata": {},
   "outputs": [
    {
     "output_type": "execute_result",
     "data": {
      "text/plain": [
       "True"
      ]
     },
     "metadata": {},
     "execution_count": 65
    }
   ],
   "source": [
    "psutil.sensors_battery().power_plugged"
   ]
  },
  {
   "cell_type": "code",
   "execution_count": null,
   "metadata": {},
   "outputs": [],
   "source": []
  }
 ],
 "metadata": {
  "kernelspec": {
   "display_name": "advancedpython",
   "language": "python",
   "name": "advancedpython"
  },
  "language_info": {
   "codemirror_mode": {
    "name": "ipython",
    "version": 3
   },
   "file_extension": ".py",
   "mimetype": "text/x-python",
   "name": "python",
   "nbconvert_exporter": "python",
   "pygments_lexer": "ipython3",
   "version": "3.8.5-final"
  }
 },
 "nbformat": 4,
 "nbformat_minor": 4
}